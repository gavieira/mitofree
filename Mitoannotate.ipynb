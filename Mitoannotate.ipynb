{
 "cells": [
  {
   "cell_type": "markdown",
   "metadata": {},
   "source": [
    "# Mitoannotate module:\n",
    "Basically an automation of the MITOS software.\n",
    "- [ ] Runs MITOS upon a fasta sequence\n",
    "- [ ] Takes the gff file and merges it with the fasta, generating a genbank file."
   ]
  },
  {
   "cell_type": "code",
   "execution_count": 3,
   "metadata": {},
   "outputs": [],
   "source": [
    "class mitoannotate():\n",
    "    def __init__():\n",
    "        pass\n",
    "    \n",
    "    \n",
    "    def run_mitos(self):\n",
    "        pass\n",
    "    \n",
    "    \n",
    "    def generate_genbank(self):\n",
    "        pass"
   ]
  },
  {
   "cell_type": "code",
   "execution_count": null,
   "metadata": {},
   "outputs": [],
   "source": []
  }
 ],
 "metadata": {
  "kernelspec": {
   "display_name": "Python 3",
   "language": "python",
   "name": "python3"
  },
  "language_info": {
   "codemirror_mode": {
    "name": "ipython",
    "version": 3
   },
   "file_extension": ".py",
   "mimetype": "text/x-python",
   "name": "python",
   "nbconvert_exporter": "python",
   "pygments_lexer": "ipython3",
   "version": "3.7.4"
  }
 },
 "nbformat": 4,
 "nbformat_minor": 4
}
