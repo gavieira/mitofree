{
 "cells": [
  {
   "cell_type": "code",
   "execution_count": 1,
   "metadata": {},
   "outputs": [],
   "source": [
    "#!/usr/bin/env python3\n",
    "# -*- coding: utf-8 -*-\n",
    "# mitofree.py\n",
    "\n",
    "import argparse, functools, os\n",
    "import mitoassembly\n",
    "\n",
    "print = functools.partial(print, flush=True) #All \"print\" functions have flush=True as default. This way, its contents are not buffered, being instead flushed to the standard output. With this, stdout and stderr redirection works like a charm...\n",
    "\n",
    "\n",
    "# def create_folders(new_working_dir): ##Creates folder for each dataset and changes the working directory\n",
    "#         print(\"New working directory is '%s'\\n\" % (new_working_dir))\n",
    "#         try:\n",
    "#             output_mkdir = os.system(\"mkdir -p %s\" % (new_working_dir))\n",
    "#             os.chdir(new_working_dir)\n",
    "#             return True\n",
    "#         except re.search(\".*Permission denied$\", output_mkdir):\n",
    "#             print(\"Could not create folder %s. Permission denied.\" % (new_working_dir.split(\"/\")[-1]))\n",
    "#             return False\n",
    "#         except:\n",
    "#             print(\"Could not create folder %s\" % (new_working_dir.split(\"/\")[-1]))\n",
    "#             return False\n",
    "\n",
    "# def main_function(sra_list):\n",
    "#     try:\n",
    "#         self.create_folders()\n",
    "#         if self.download_sra_files_prefetch():\n",
    "#             max_read_length = self.highest_read_length()\n",
    "#             self.generate_fastq()\n",
    "#             self.download_seed()\n",
    "#             self.run_NOVOPlasty()\n",
    "#             if self.merge_priority():##Could use this to check if NOVOPlasty assembly has successfully finished and skip this step.\n",
    "#                 print(\"NOVOPlasty assembly succesfully finished!\")\n",
    "#                 self.changeid_pre_mitobim()\n",
    "#                 ##Add while loop that runs mitobim and, if timeout, run generate_fastq with half the read number and then runs mitobim again:\n",
    "#                 #while not run_mitobim(\"largest_contig.fa\", species, name_of_fastq_file):\n",
    "#                 #args.subset = args.subset/2\n",
    "#                 #run_mitobim(\"largest_contig.fa\", species, name_of_fastq_file)\n",
    "#                 self.run_mitobim()\n",
    "#                 last_it = self.last_finalized_iteration()\n",
    "#                 ace = self.mitobim_convert_maf_to_ace(species, last_it)\n",
    "#                 assembly = self.mitobim_ace_to_fasta(ace)\n",
    "#                 if args.savespace:\n",
    "#                     self.remove_assembly_files(name_of_fastq_file)\n",
    "#     except Exception as error:\n",
    "#         print(\"\\nAn error has occurred for this assembly:\\n\\n{}\\n\\nProceeding to the next assembly\\n\".format(error))\n",
    "#         continue\n",
    "#     else:\n",
    "#         pass #PUT ANNOTATION MODULE HERE!!!!!\n",
    "\n",
    "# return(\"All done!\")\n",
    "# ##Add the merge contigs and count contigs here (with its ifs, for readability)        "
   ]
  },
  {
   "cell_type": "code",
   "execution_count": 2,
   "metadata": {},
   "outputs": [
    {
     "name": "stdout",
     "output_type": "stream",
     "text": [
      "Downloading ERR1306022:\n",
      "\n",
      "\n"
     ]
    },
    {
     "name": "stderr",
     "output_type": "stream",
     "text": [
      "/home/gabriel/anaconda3/lib/python3.7/site-packages/Bio/Entrez/__init__.py:606: UserWarning: \n",
      "Email address is not specified.\n",
      "\n",
      "To make use of NCBI's E-utilities, NCBI requires you to specify your\n",
      "email address with each request.  As an example, if your email address\n",
      "is A.N.Other@example.com, you can specify it as follows:\n",
      "   from Bio import Entrez\n",
      "   Entrez.email = 'A.N.Other@example.com'\n",
      "In case of excessive usage of the E-utilities, NCBI will attempt to contact\n",
      "a user at the email address provided before blocking access to the\n",
      "E-utilities.\n",
      "  E-utilities.\"\"\", UserWarning)\n"
     ]
    },
    {
     "name": "stdout",
     "output_type": "stream",
     "text": [
      "Seed file MK297287.1.seed.fa downloaded succesfully\n",
      "Downloading RR7295165:\n",
      "\n",
      "\n"
     ]
    },
    {
     "name": "stderr",
     "output_type": "stream",
     "text": [
      "/home/gabriel/anaconda3/lib/python3.7/site-packages/Bio/Entrez/__init__.py:606: UserWarning: \n",
      "Email address is not specified.\n",
      "\n",
      "To make use of NCBI's E-utilities, NCBI requires you to specify your\n",
      "email address with each request.  As an example, if your email address\n",
      "is A.N.Other@example.com, you can specify it as follows:\n",
      "   from Bio import Entrez\n",
      "   Entrez.email = 'A.N.Other@example.com'\n",
      "In case of excessive usage of the E-utilities, NCBI will attempt to contact\n",
      "a user at the email address provided before blocking access to the\n",
      "E-utilities.\n",
      "  E-utilities.\"\"\", UserWarning)\n"
     ]
    },
    {
     "name": "stdout",
     "output_type": "stream",
     "text": [
      "Seed file MK297241.1.seed.fa downloaded succesfully\n",
      "Downloading ERR1306034:\n",
      "\n",
      "\n"
     ]
    },
    {
     "name": "stderr",
     "output_type": "stream",
     "text": [
      "/home/gabriel/anaconda3/lib/python3.7/site-packages/Bio/Entrez/__init__.py:606: UserWarning: \n",
      "Email address is not specified.\n",
      "\n",
      "To make use of NCBI's E-utilities, NCBI requires you to specify your\n",
      "email address with each request.  As an example, if your email address\n",
      "is A.N.Other@example.com, you can specify it as follows:\n",
      "   from Bio import Entrez\n",
      "   Entrez.email = 'A.N.Other@example.com'\n",
      "In case of excessive usage of the E-utilities, NCBI will attempt to contact\n",
      "a user at the email address provided before blocking access to the\n",
      "E-utilities.\n",
      "  E-utilities.\"\"\", UserWarning)\n"
     ]
    },
    {
     "name": "stdout",
     "output_type": "stream",
     "text": [
      "Seed file MK291745.seed.fa downloaded succesfully\n",
      "Downloading SRR4409513:\n",
      "\n",
      "\n"
     ]
    },
    {
     "name": "stderr",
     "output_type": "stream",
     "text": [
      "/home/gabriel/anaconda3/lib/python3.7/site-packages/Bio/Entrez/__init__.py:606: UserWarning: \n",
      "Email address is not specified.\n",
      "\n",
      "To make use of NCBI's E-utilities, NCBI requires you to specify your\n",
      "email address with each request.  As an example, if your email address\n",
      "is A.N.Other@example.com, you can specify it as follows:\n",
      "   from Bio import Entrez\n",
      "   Entrez.email = 'A.N.Other@example.com'\n",
      "In case of excessive usage of the E-utilities, NCBI will attempt to contact\n",
      "a user at the email address provided before blocking access to the\n",
      "E-utilities.\n",
      "  E-utilities.\"\"\", UserWarning)\n"
     ]
    },
    {
     "name": "stdout",
     "output_type": "stream",
     "text": [
      "Seed file MK291678.seed.fa downloaded succesfully\n"
     ]
    }
   ],
   "source": [
    "# def getArgs():\n",
    "# \tparser = argparse.ArgumentParser(description=\"Downloads sra NGS data and assembles mitochondrial contigs using NOVOPlasty and MITObim\")\n",
    "# \tparser.add_argument(\"-S\", \"--savespace\", action=\"store_true\", default=False, help=\"Automatically removes residual assembly files such as fastq and mitobim iterations\")\n",
    "# \tparser.add_argument(\"-M\", \"--maxmemory\", type=int, metavar=\"\", default=0, help=\"Limit of RAM usage for NOVOPlasty. Default: no limit\")\n",
    "# \tparser.add_argument(\"-K\", \"--kmer\", type=int, metavar=\"\", default=39, help=\"K-mer used in NOVOPlasty assembly. Default: 39\")\n",
    "# \tparser.add_argument(\"-s\", \"--subset\", type=int, metavar=\"\", default=50000000, help=\"Max number of reads used in the assembly process. Default: 50 million reads\")\n",
    "# \t#parser.add_argument(\"-P\", \"--parallel\", type=int, metavar=\"\", default=1, help=\"Number of parallel assemblies. Default: 1\")\n",
    "# \tparser.add_argument(\"-T\", \"--timeout\", type=int, metavar=\"\", default=24, help=\"Custom timeout for MITObim, in hours. Default: 24h\")\n",
    "# \tparser.add_argument(\"filename\", type=str, metavar=\"FILENAME\", help=\"Path to file with multiple accessions (one per line)\")\n",
    "# \treturn parser.parse_args()\n",
    "\n",
    "class args:\n",
    "    filename = \"input_file_example.txt\"\n",
    "\n",
    "if __name__ == \"__main__\":\n",
    "    #args = getArgs()\n",
    "    with open(args.filename) as dataset_list:\n",
    "        for dataset in dataset_list:\n",
    "            assembly = mitoassembly.mitoassembly(dataset)\n",
    "            if not os.path.isdir(assembly.prefix):\n",
    "                os.mkdir(assembly.prefix)\n",
    "            os.chdir(assembly.prefix)\n",
    "            #Do something here\n",
    "            assembly.download_sra_files_prefetch()\n",
    "            assembly.download_seed()\n",
    "            \n",
    "            os.chdir(\"../\")"
   ]
  },
  {
   "cell_type": "code",
   "execution_count": null,
   "metadata": {},
   "outputs": [],
   "source": []
  }
 ],
 "metadata": {
  "kernelspec": {
   "display_name": "Python 3",
   "language": "python",
   "name": "python3"
  },
  "language_info": {
   "codemirror_mode": {
    "name": "ipython",
    "version": 3
   },
   "file_extension": ".py",
   "mimetype": "text/x-python",
   "name": "python",
   "nbconvert_exporter": "python",
   "pygments_lexer": "ipython3",
   "version": "3.7.3"
  }
 },
 "nbformat": 4,
 "nbformat_minor": 4
}
